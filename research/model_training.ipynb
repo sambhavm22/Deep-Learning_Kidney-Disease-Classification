{
 "cells": [
  {
   "cell_type": "code",
   "execution_count": 1,
   "metadata": {},
   "outputs": [
    {
     "data": {
      "text/plain": [
       "'/Users/aakanksha/My_Codes/Deep-Learning_Kidney-Disease-Classification'"
      ]
     },
     "execution_count": 1,
     "metadata": {},
     "output_type": "execute_result"
    }
   ],
   "source": [
    "%pwd"
   ]
  },
  {
   "cell_type": "code",
   "execution_count": 2,
   "metadata": {},
   "outputs": [],
   "source": [
    "from dataclasses import dataclass\n",
    "from pathlib import Path\n",
    "\n",
    "@dataclass(frozen=True)\n",
    "class TrainingConfig:\n",
    "    root_dir:Path\n",
    "    trained_model_path: Path\n",
    "    updated_base_model_path: Path\n",
    "    training_data: Path\n",
    "    params_batch_size: int\n",
    "    params_image_size: list\n",
    "    params_is_augmentation: bool\n",
    "    params_epochs: int"
   ]
  },
  {
   "cell_type": "code",
   "execution_count": 3,
   "metadata": {},
   "outputs": [],
   "source": [
    "from src.constants import *\n",
    "from src.utils.common import read_yaml, create_directories\n",
    "import os\n",
    "\n",
    "class ConfigurationManager:\n",
    "    \n",
    "    def __init__(self,\n",
    "        config_filepath = CONFIG_FILE_PATH,\n",
    "        params_filepath = PARAMS_FILE_PATH):\n",
    "\n",
    "        self.config = read_yaml(config_filepath)\n",
    "        self.params = read_yaml(params_filepath)\n",
    "\n",
    "        create_directories([self.config.artifacts_root])\n",
    "\n",
    "    def get_train_model_config(self)->TrainingConfig:\n",
    "        training = self.config.training\n",
    "        prepare_base_model = self.config.prepare_base_model\n",
    "        params = self.params\n",
    "        training_data = os.path.join(self.config.data_ingestion.unzip_dir, \"kidney-ct-scan-image\")\n",
    "\n",
    "        create_directories([Path(training.root_dir)])\n",
    "\n",
    "        training_model_config = TrainingConfig(\n",
    "            root_dir=Path(training.root_dir),\n",
    "            trained_model_path = Path(training.trained_model_path),\n",
    "            updated_base_model_path = Path(prepare_base_model.updated_base_model_path),\n",
    "            training_data = Path(training_data),\n",
    "            params_batch_size = params.BATCH_SIZE,\n",
    "            params_image_size = params.IMAGE_SIZE,\n",
    "            params_is_augmentation = params.AUGMENTATION,\n",
    "            params_epochs = params.EPOCHS\n",
    "            ) \n",
    "        return training_model_config    \n"
   ]
  },
  {
   "cell_type": "code",
   "execution_count": 4,
   "metadata": {},
   "outputs": [],
   "source": [
    "import tensorflow as tf\n",
    "from src.utils.common import save_model"
   ]
  },
  {
   "cell_type": "code",
   "execution_count": 5,
   "metadata": {},
   "outputs": [],
   "source": [
    "class Training:\n",
    "    def __init__(self, config: TrainingConfig):\n",
    "        self.config = config\n",
    "\n",
    "    def get_base_model(self):\n",
    "        self.model = tf.keras.models.load_model(self.config.updated_base_model_path)   \n",
    "\n",
    "    def train_valid_generator(self):\n",
    "        \n",
    "        data_generator_kwargs = dict(\n",
    "            rescale = 1./255,\n",
    "            validation_split = 0.20\n",
    "        )    \n",
    "\n",
    "        dataflow_kwargs = dict(\n",
    "            target_size = self.config.params_image_size[:-1],\n",
    "            batch_size = self.config.params_batch_size,\n",
    "            interpolation = 'bilinear'\n",
    "        )\n",
    "\n",
    "        valid_data_generator = tf.keras.preprocessing.image.ImageDataGenerator(\n",
    "            **data_generator_kwargs\n",
    "        )\n",
    "\n",
    "        self.valid_generator = valid_data_generator.flow_from_directory(\n",
    "            directory = self.config.training_data,\n",
    "            subset = 'validation',\n",
    "            shuffle = True,\n",
    "            **dataflow_kwargs\n",
    "        )\n",
    "\n",
    "        if self.config.params_is_augmentation:\n",
    "            train_data_generator = tf.keras.preprocessing.image.ImageDataGenerator(\n",
    "                rotation_range = 40,\n",
    "                shear_range = 0.2,\n",
    "                width_shift_range = 0.2,\n",
    "                height_shift_range = 0.2,\n",
    "                zoom_range = 0.2,\n",
    "                horizontal_flip = True,\n",
    "                **data_generator_kwargs\n",
    "            )\n",
    "\n",
    "        else:\n",
    "            train_data_generator = valid_data_generator\n",
    "\n",
    "        self.train_generator = train_data_generator.flow_from_directory(\n",
    "            directory = self.config.training_data,\n",
    "            subset = 'training',\n",
    "            shuffle = True,\n",
    "            **dataflow_kwargs\n",
    "        )    \n",
    "\n",
    "    def train(self):\n",
    "        self.steps_per_epoch = self.train_generator.samples // self.train_generator.batch_size\n",
    "        self.validation_steps = self.valid_generator.samples // self.valid_generator.batch_size\n",
    "\n",
    "        self.model.fit(\n",
    "            self.train_generator,\n",
    "            epochs = self.config.params_epochs,\n",
    "            steps_per_epoch=self.steps_per_epoch,\n",
    "            validation_steps=self.validation_steps,\n",
    "            validation_data=self.valid_generator\n",
    "            )\n",
    "\n",
    "        save_model(path=self.config.trained_model_path,\n",
    "                model = self.model)\n",
    "            \n"
   ]
  },
  {
   "cell_type": "code",
   "execution_count": 6,
   "metadata": {},
   "outputs": [
    {
     "name": "stdout",
     "output_type": "stream",
     "text": [
      "[2023-10-20 22:23:47,398: INFO: common: yaml file: config/config.yaml loaded successfully]\n",
      "[2023-10-20 22:23:47,401: INFO: common: yaml file: params.yaml loaded successfully]\n",
      "[2023-10-20 22:23:47,401: INFO: common: created directory at: artifacts]\n",
      "[2023-10-20 22:23:47,402: INFO: common: created directory at: artifacts/training]\n"
     ]
    },
    {
     "name": "stderr",
     "output_type": "stream",
     "text": [
      "2023-10-20 22:23:47.452725: I metal_plugin/src/device/metal_device.cc:1154] Metal device set to: Apple M1\n",
      "2023-10-20 22:23:47.452753: I metal_plugin/src/device/metal_device.cc:296] systemMemory: 8.00 GB\n",
      "2023-10-20 22:23:47.452768: I metal_plugin/src/device/metal_device.cc:313] maxCacheSize: 2.67 GB\n",
      "2023-10-20 22:23:47.453308: I tensorflow/core/common_runtime/pluggable_device/pluggable_device_factory.cc:306] Could not identify NUMA node of platform GPU ID 0, defaulting to 0. Your kernel may not have been built with NUMA support.\n",
      "2023-10-20 22:23:47.453723: I tensorflow/core/common_runtime/pluggable_device/pluggable_device_factory.cc:272] Created TensorFlow device (/job:localhost/replica:0/task:0/device:GPU:0 with 0 MB memory) -> physical PluggableDevice (device: 0, name: METAL, pci bus id: <undefined>)\n"
     ]
    },
    {
     "name": "stdout",
     "output_type": "stream",
     "text": [
      "[2023-10-20 22:23:49,884: WARNING: optimizer: At this time, the v2.11+ optimizer `tf.keras.optimizers.SGD` runs slowly on M1/M2 Macs, please use the legacy Keras optimizer instead, located at `tf.keras.optimizers.legacy.SGD`.]\n",
      "Found 93 images belonging to 2 classes.\n",
      "Found 372 images belonging to 2 classes.\n",
      "Epoch 1/20\n"
     ]
    },
    {
     "name": "stderr",
     "output_type": "stream",
     "text": [
      "2023-10-20 22:23:50.762579: I tensorflow/core/grappler/optimizers/custom_graph_optimizer_registry.cc:117] Plugin optimizer for device_type GPU is enabled.\n",
      "2023-10-20 22:23:50.802380: E tensorflow/core/grappler/optimizers/meta_optimizer.cc:961] model_pruner failed: INVALID_ARGUMENT: Graph does not contain terminal node SGD/AssignVariableOp.\n"
     ]
    },
    {
     "name": "stdout",
     "output_type": "stream",
     "text": [
      "11/11 [==============================] - 25s 2s/step - loss: 13.2579 - accuracy: 0.5294 - val_loss: 7.6051 - val_accuracy: 0.5312\n",
      "Epoch 2/20\n",
      "11/11 [==============================] - 17s 2s/step - loss: 4.4119 - accuracy: 0.6912 - val_loss: 17.7403 - val_accuracy: 0.5156\n",
      "Epoch 3/20\n",
      "11/11 [==============================] - 19s 2s/step - loss: 8.8367 - accuracy: 0.6235 - val_loss: 8.6138 - val_accuracy: 0.4844\n",
      "Epoch 4/20\n",
      "11/11 [==============================] - 17s 2s/step - loss: 3.0461 - accuracy: 0.7471 - val_loss: 18.5176 - val_accuracy: 0.4688\n",
      "Epoch 5/20\n",
      "11/11 [==============================] - 17s 2s/step - loss: 4.9163 - accuracy: 0.7294 - val_loss: 8.3775 - val_accuracy: 0.5938\n",
      "Epoch 6/20\n",
      "11/11 [==============================] - 18s 2s/step - loss: 1.9074 - accuracy: 0.7941 - val_loss: 18.2829 - val_accuracy: 0.5000\n",
      "Epoch 7/20\n",
      "11/11 [==============================] - 17s 2s/step - loss: 8.3840 - accuracy: 0.6647 - val_loss: 5.1165 - val_accuracy: 0.5312\n",
      "Epoch 8/20\n",
      "11/11 [==============================] - 16s 2s/step - loss: 1.1687 - accuracy: 0.8471 - val_loss: 0.9310 - val_accuracy: 0.8594\n",
      "Epoch 9/20\n",
      "11/11 [==============================] - 18s 2s/step - loss: 0.6527 - accuracy: 0.8824 - val_loss: 2.2464 - val_accuracy: 0.7500\n",
      "Epoch 10/20\n",
      "11/11 [==============================] - 17s 2s/step - loss: 3.4775 - accuracy: 0.7529 - val_loss: 3.5619 - val_accuracy: 0.5469\n",
      "Epoch 11/20\n",
      "11/11 [==============================] - 17s 2s/step - loss: 0.8455 - accuracy: 0.8735 - val_loss: 1.1967 - val_accuracy: 0.7500\n",
      "Epoch 12/20\n",
      "11/11 [==============================] - 17s 2s/step - loss: 5.1565 - accuracy: 0.6471 - val_loss: 0.8548 - val_accuracy: 0.9375\n",
      "Epoch 13/20\n",
      "11/11 [==============================] - 18s 2s/step - loss: 1.0674 - accuracy: 0.8706 - val_loss: 0.1025 - val_accuracy: 0.9844\n",
      "Epoch 14/20\n",
      "11/11 [==============================] - 18s 2s/step - loss: 0.7070 - accuracy: 0.8794 - val_loss: 2.4153 - val_accuracy: 0.7188\n",
      "Epoch 15/20\n",
      "11/11 [==============================] - 18s 2s/step - loss: 2.5507 - accuracy: 0.7647 - val_loss: 1.1884 - val_accuracy: 0.8125\n",
      "Epoch 16/20\n",
      "11/11 [==============================] - 18s 2s/step - loss: 0.7948 - accuracy: 0.8824 - val_loss: 0.0427 - val_accuracy: 0.9688\n",
      "Epoch 17/20\n",
      "11/11 [==============================] - 20s 2s/step - loss: 0.3464 - accuracy: 0.9265 - val_loss: 1.8316 - val_accuracy: 0.7969\n",
      "Epoch 18/20\n",
      "11/11 [==============================] - 17s 2s/step - loss: 0.2776 - accuracy: 0.9500 - val_loss: 0.0117 - val_accuracy: 1.0000\n",
      "Epoch 19/20\n",
      "11/11 [==============================] - 17s 2s/step - loss: 0.1502 - accuracy: 0.9676 - val_loss: 0.0024 - val_accuracy: 1.0000\n",
      "Epoch 20/20\n",
      "11/11 [==============================] - 17s 2s/step - loss: 0.5788 - accuracy: 0.9147 - val_loss: 0.0012 - val_accuracy: 1.0000\n"
     ]
    },
    {
     "name": "stderr",
     "output_type": "stream",
     "text": [
      "/Users/aakanksha/miniforge3/envs/coffeeprogrammer/lib/python3.10/site-packages/keras/src/engine/training.py:3079: UserWarning: You are saving your model as an HDF5 file via `model.save()`. This file format is considered legacy. We recommend using instead the native Keras format, e.g. `model.save('my_model.keras')`.\n",
      "  saving_api.save_model(\n"
     ]
    }
   ],
   "source": [
    "try:\n",
    "    config = ConfigurationManager()\n",
    "    training_config = config.get_train_model_config()\n",
    "    training = Training(config=training_config)\n",
    "    training.get_base_model()\n",
    "    training.train_valid_generator()\n",
    "    training.train()\n",
    "except Exception as e:\n",
    "    raise e    "
   ]
  }
 ],
 "metadata": {
  "kernelspec": {
   "display_name": "Python 3",
   "language": "python",
   "name": "python3"
  },
  "language_info": {
   "codemirror_mode": {
    "name": "ipython",
    "version": 3
   },
   "file_extension": ".py",
   "mimetype": "text/x-python",
   "name": "python",
   "nbconvert_exporter": "python",
   "pygments_lexer": "ipython3",
   "version": "3.10.6"
  },
  "orig_nbformat": 4
 },
 "nbformat": 4,
 "nbformat_minor": 2
}
