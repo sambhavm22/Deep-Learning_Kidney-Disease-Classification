{
 "cells": [
  {
   "cell_type": "code",
   "execution_count": 1,
   "metadata": {},
   "outputs": [
    {
     "data": {
      "text/plain": [
       "'/Users/aakanksha/My_Codes/Deep-Learning_Kidney-Disease-Classification'"
      ]
     },
     "execution_count": 1,
     "metadata": {},
     "output_type": "execute_result"
    }
   ],
   "source": [
    "%pwd"
   ]
  },
  {
   "cell_type": "code",
   "execution_count": 2,
   "metadata": {},
   "outputs": [],
   "source": [
    "from dataclasses import dataclass\n",
    "from pathlib import Path\n",
    "\n",
    "@dataclass(frozen=True)\n",
    "class TrainingConfig:\n",
    "    root_dir:Path\n",
    "    trained_model_path: Path\n",
    "    updated_base_model_path: Path\n",
    "    training_data: Path\n",
    "    params_batch_size: int\n",
    "    params_image_size: list\n",
    "    params_is_augmentation: bool\n",
    "    params_epochs: int"
   ]
  },
  {
   "cell_type": "code",
   "execution_count": 3,
   "metadata": {},
   "outputs": [],
   "source": [
    "from src.constants import *\n",
    "from src.utils.common import read_yaml, create_directories\n",
    "import os\n",
    "\n",
    "class ConfigurationManager:\n",
    "    \n",
    "    def __init__(self,\n",
    "        config_filepath = CONFIG_FILE_PATH,\n",
    "        params_filepath = PARAMS_FILE_PATH):\n",
    "\n",
    "        self.config = read_yaml(config_filepath)\n",
    "        self.params = read_yaml(params_filepath)\n",
    "\n",
    "        create_directories([self.config.artifacts_root])\n",
    "\n",
    "    def get_train_model_config(self)->TrainingConfig:\n",
    "        training = self.config.training\n",
    "        prepare_base_model = self.config.prepare_base_model\n",
    "        params = self.params\n",
    "        training_data = os.path.join(self.config.data_ingestion.unzip_dir, \"kidney-ct-scan-image\")\n",
    "\n",
    "        create_directories([Path(training.root_dir)])\n",
    "\n",
    "        training_model_config = TrainingConfig(\n",
    "            root_dir=Path(training.root_dir),\n",
    "            trained_model_path = Path(training.trained_model_path),\n",
    "            updated_base_model_path = Path(prepare_base_model.updated_base_model_path),\n",
    "            training_data = Path(training_data),\n",
    "            params_batch_size = params.BATCH_SIZE,\n",
    "            params_image_size = params.IMAGE_SIZE,\n",
    "            params_is_augmentation = params.AUGMENTATION,\n",
    "            params_epochs = params.EPOCHS\n",
    "            ) \n",
    "        return training_model_config    \n"
   ]
  },
  {
   "cell_type": "code",
   "execution_count": 4,
   "metadata": {},
   "outputs": [],
   "source": [
    "import tensorflow as tf\n",
    "from src.utils.common import save_model"
   ]
  },
  {
   "cell_type": "code",
   "execution_count": 10,
   "metadata": {},
   "outputs": [],
   "source": [
    "class Training:\n",
    "    def __init__(self, config: TrainingConfig):\n",
    "        self.config = config\n",
    "\n",
    "    def get_base_model(self):\n",
    "        self.model = tf.keras.models.load_model(self.config.updated_base_model_path)   \n",
    "\n",
    "    def train_valid_generator(self):\n",
    "        \n",
    "        data_generator_kwargs = dict(\n",
    "            rescale = 1./255,\n",
    "            validation_split = 0.20\n",
    "        )    \n",
    "\n",
    "        dataflow_kwargs = dict(\n",
    "            target_size = self.config.params_image_size[:-1],\n",
    "            batch_size = self.config.params_batch_size,\n",
    "            interpolation = 'bilinear'\n",
    "        )\n",
    "\n",
    "        valid_data_generator = tf.keras.preprocessing.image.ImageDataGenerator(\n",
    "            **data_generator_kwargs\n",
    "        )\n",
    "\n",
    "        self.valid_generator = valid_data_generator.flow_from_directory(\n",
    "            directory = self.config.training_data,\n",
    "            subset = 'validation',\n",
    "            shuffle = True,\n",
    "            **dataflow_kwargs\n",
    "        )\n",
    "\n",
    "        if self.config.params_is_augmentation:\n",
    "            train_data_generator = tf.keras.preprocessing.image.ImageDataGenerator(\n",
    "                rotation_range = 40,\n",
    "                shear_range = 0.2,\n",
    "                width_shift_range = 0.2,\n",
    "                height_shift_range = 0.2,\n",
    "                zoom_range = 0.2,\n",
    "                horizontal_flip = True,\n",
    "                **data_generator_kwargs\n",
    "            )\n",
    "\n",
    "        else:\n",
    "            train_data_generator = valid_data_generator\n",
    "\n",
    "        self.train_generator = train_data_generator.flow_from_directory(\n",
    "            directory = self.config.training_data,\n",
    "            subset = 'training',\n",
    "            shuffle = True,\n",
    "            **dataflow_kwargs\n",
    "        )    \n",
    "\n",
    "    def train(self):\n",
    "        self.steps_per_epoch = self.train_generator.samples // self.train_generator.batch_size\n",
    "        self.validation_steps = self.valid_generator.samples // self.valid_generator.batch_size\n",
    "\n",
    "        self.model.fit(\n",
    "            self.train_generator,\n",
    "            epochs = self.config.params_epochs,\n",
    "            steps_per_epoch=self.steps_per_epoch,\n",
    "            validation_steps=self.validation_steps,\n",
    "            validation_data=self.valid_generator\n",
    "            )\n",
    "\n",
    "        save_model(path=self.config.trained_model_path,\n",
    "                model = self.model)\n",
    "            \n"
   ]
  },
  {
   "cell_type": "code",
   "execution_count": 11,
   "metadata": {},
   "outputs": [
    {
     "name": "stdout",
     "output_type": "stream",
     "text": [
      "[2023-10-17 23:49:07,680: INFO: common: yaml file: config/config.yaml loaded successfully]\n",
      "[2023-10-17 23:49:07,684: INFO: common: yaml file: params.yaml loaded successfully]\n",
      "[2023-10-17 23:49:07,685: INFO: common: created directory at: artifacts]\n",
      "[2023-10-17 23:49:07,686: INFO: common: created directory at: artifacts/training]\n",
      "[2023-10-17 23:49:08,550: WARNING: optimizer: At this time, the v2.11+ optimizer `tf.keras.optimizers.SGD` runs slowly on M1/M2 Macs, please use the legacy Keras optimizer instead, located at `tf.keras.optimizers.legacy.SGD`.]\n",
      "Found 93 images belonging to 2 classes.\n",
      "Found 372 images belonging to 2 classes.\n",
      "Epoch 1/20\n"
     ]
    },
    {
     "name": "stderr",
     "output_type": "stream",
     "text": [
      "2023-10-17 23:49:09.311267: E tensorflow/core/grappler/optimizers/meta_optimizer.cc:961] model_pruner failed: INVALID_ARGUMENT: Graph does not contain terminal node SGD/AssignVariableOp.\n"
     ]
    },
    {
     "name": "stdout",
     "output_type": "stream",
     "text": [
      "11/11 [==============================] - 24s 2s/step - loss: 11.7967 - accuracy: 0.5471 - val_loss: 16.3697 - val_accuracy: 0.5156\n",
      "Epoch 2/20\n",
      "11/11 [==============================] - 18s 2s/step - loss: 10.2414 - accuracy: 0.5971 - val_loss: 6.8288 - val_accuracy: 0.5312\n",
      "Epoch 3/20\n",
      "11/11 [==============================] - 16s 1s/step - loss: 2.5156 - accuracy: 0.7882 - val_loss: 0.8312 - val_accuracy: 0.9219\n",
      "Epoch 4/20\n",
      "11/11 [==============================] - 16s 1s/step - loss: 8.7699 - accuracy: 0.5735 - val_loss: 15.1066 - val_accuracy: 0.4531\n",
      "Epoch 5/20\n",
      "11/11 [==============================] - 16s 1s/step - loss: 5.0058 - accuracy: 0.7294 - val_loss: 1.2764 - val_accuracy: 0.8438\n",
      "Epoch 6/20\n",
      "11/11 [==============================] - 16s 1s/step - loss: 2.0756 - accuracy: 0.8147 - val_loss: 1.1245 - val_accuracy: 0.6094\n",
      "Epoch 7/20\n",
      "11/11 [==============================] - 16s 1s/step - loss: 1.5826 - accuracy: 0.8294 - val_loss: 0.6052 - val_accuracy: 0.8438\n",
      "Epoch 8/20\n",
      "11/11 [==============================] - 17s 2s/step - loss: 1.5262 - accuracy: 0.8294 - val_loss: 2.6214 - val_accuracy: 0.5625\n",
      "Epoch 9/20\n",
      "11/11 [==============================] - 16s 1s/step - loss: 5.7360 - accuracy: 0.6794 - val_loss: 4.0527 - val_accuracy: 0.4375\n",
      "Epoch 10/20\n",
      "11/11 [==============================] - 16s 1s/step - loss: 1.4654 - accuracy: 0.8265 - val_loss: 0.1879 - val_accuracy: 0.9531\n",
      "Epoch 11/20\n",
      "11/11 [==============================] - 16s 1s/step - loss: 0.6964 - accuracy: 0.8882 - val_loss: 1.3797 - val_accuracy: 0.7344\n",
      "Epoch 12/20\n",
      "11/11 [==============================] - 16s 1s/step - loss: 3.5148 - accuracy: 0.7176 - val_loss: 0.5997 - val_accuracy: 0.9375\n",
      "Epoch 13/20\n",
      "11/11 [==============================] - 16s 1s/step - loss: 1.4066 - accuracy: 0.8353 - val_loss: 0.3036 - val_accuracy: 0.9062\n",
      "Epoch 14/20\n",
      "11/11 [==============================] - 16s 1s/step - loss: 0.8597 - accuracy: 0.8912 - val_loss: 0.3648 - val_accuracy: 0.9531\n",
      "Epoch 15/20\n",
      "11/11 [==============================] - 16s 1s/step - loss: 1.0022 - accuracy: 0.8647 - val_loss: 0.1833 - val_accuracy: 0.9688\n",
      "Epoch 16/20\n",
      "11/11 [==============================] - 16s 1s/step - loss: 3.7422 - accuracy: 0.7443 - val_loss: 0.1395 - val_accuracy: 0.9688\n",
      "Epoch 17/20\n",
      "11/11 [==============================] - 15s 1s/step - loss: 1.3023 - accuracy: 0.8529 - val_loss: 11.3031 - val_accuracy: 0.4844\n",
      "Epoch 18/20\n",
      "11/11 [==============================] - 16s 1s/step - loss: 2.9637 - accuracy: 0.8088 - val_loss: 6.4635 - val_accuracy: 0.5781\n",
      "Epoch 19/20\n",
      "11/11 [==============================] - 16s 1s/step - loss: 4.5576 - accuracy: 0.7235 - val_loss: 0.0401 - val_accuracy: 0.9688\n",
      "Epoch 20/20\n",
      "11/11 [==============================] - 16s 1s/step - loss: 0.3703 - accuracy: 0.9324 - val_loss: 0.0787 - val_accuracy: 0.9531\n"
     ]
    },
    {
     "name": "stderr",
     "output_type": "stream",
     "text": [
      "/Users/aakanksha/miniforge3/envs/coffeeprogrammer/lib/python3.10/site-packages/keras/src/engine/training.py:3079: UserWarning: You are saving your model as an HDF5 file via `model.save()`. This file format is considered legacy. We recommend using instead the native Keras format, e.g. `model.save('my_model.keras')`.\n",
      "  saving_api.save_model(\n"
     ]
    }
   ],
   "source": [
    "try:\n",
    "    config = ConfigurationManager()\n",
    "    training_config = config.get_train_model_config()\n",
    "    training = Training(config=training_config)\n",
    "    training.get_base_model()\n",
    "    training.train_valid_generator()\n",
    "    training.train()\n",
    "except Exception as e:\n",
    "    raise e    "
   ]
  }
 ],
 "metadata": {
  "kernelspec": {
   "display_name": "Python 3",
   "language": "python",
   "name": "python3"
  },
  "language_info": {
   "codemirror_mode": {
    "name": "ipython",
    "version": 3
   },
   "file_extension": ".py",
   "mimetype": "text/x-python",
   "name": "python",
   "nbconvert_exporter": "python",
   "pygments_lexer": "ipython3",
   "version": "3.10.6"
  },
  "orig_nbformat": 4
 },
 "nbformat": 4,
 "nbformat_minor": 2
}
